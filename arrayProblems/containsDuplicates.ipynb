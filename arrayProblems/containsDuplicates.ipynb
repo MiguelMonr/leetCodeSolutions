{
 "cells": [
  {
   "cell_type": "markdown",
   "metadata": {},
   "source": [
    "Given an integer array nums, return true if any value appears at least twice in the array, and return false if every element is distinct.\n"
   ]
  },
  {
   "cell_type": "markdown",
   "metadata": {},
   "source": [
    "My Solution "
   ]
  },
  {
   "cell_type": "code",
   "execution_count": 6,
   "metadata": {},
   "outputs": [
    {
     "name": "stdout",
     "output_type": "stream",
     "text": [
      "True\n",
      "False\n",
      "True\n"
     ]
    }
   ],
   "source": [
    "class Solution(object): # Su complejidad es O(nlongN)\n",
    "    def containsDuplicate(self, nums):\n",
    "        \"\"\"\n",
    "        :type nums: List[int]\n",
    "        :rtype: bool\n",
    "        \"\"\"\n",
    "        nums.sort()  # Ordena la lista nums\n",
    "        for i in range(len(nums) - 1):  # Itera hasta el penúltimo elemento\n",
    "            if nums[i] == nums[i + 1]:  # Compara el elemento actual con el siguiente\n",
    "                return True  # Si hay duplicados, retorna True\n",
    "        return False  # Si no se encontraron duplicados, retorna False\n",
    "\n",
    "# Ejemplo de uso\n",
    "solution = Solution()\n",
    "nums = [1, 2, 3, 1]\n",
    "print(solution.containsDuplicate(nums))  # Salida: True\n",
    "\n",
    "nums1 = [1, 2, 3, 4]\n",
    "print(solution.containsDuplicate(nums1))  # Salida: False\n",
    "\n",
    "nums2 = [1, 1, 1, 3, 3, 4, 3, 2, 4, 2]\n",
    "print(solution.containsDuplicate(nums2))  # Salida: True\n"
   ]
  },
  {
   "cell_type": "markdown",
   "metadata": {},
   "source": [
    "# LeetCode Solution\n"
   ]
  },
  {
   "cell_type": "code",
   "execution_count": 4,
   "metadata": {},
   "outputs": [
    {
     "name": "stdout",
     "output_type": "stream",
     "text": [
      "True\n",
      "False\n",
      "True\n"
     ]
    }
   ],
   "source": [
    "# this wll use a hashset so the complexity will be O(1)\n",
    "class Solution: \n",
    "    def containsDuplicate(self, nums) -> bool: \n",
    "        hashset = set()\n",
    "        \n",
    "        for n in nums: \n",
    "            if n in hashset: \n",
    "                return True\n",
    "            hashset.add(n)\n",
    "        return False\n",
    "        \n",
    "        # Ejemplo de uso\n",
    "solution = Solution()\n",
    "nums = [1, 2, 3, 1]\n",
    "print(solution.containsDuplicate(nums))  # Salida: True\n",
    "\n",
    "nums1 = [1, 2, 3, 4]\n",
    "print(solution.containsDuplicate(nums1))  # Salida: False\n",
    "\n",
    "nums2 = [1, 1, 1, 3, 3, 4, 3, 2, 4, 2]\n",
    "print(solution.containsDuplicate(nums2))  # Salida: True"
   ]
  }
 ],
 "metadata": {
  "kernelspec": {
   "display_name": "Python 3",
   "language": "python",
   "name": "python3"
  },
  "language_info": {
   "codemirror_mode": {
    "name": "ipython",
    "version": 3
   },
   "file_extension": ".py",
   "mimetype": "text/x-python",
   "name": "python",
   "nbconvert_exporter": "python",
   "pygments_lexer": "ipython3",
   "version": "3.11.0"
  }
 },
 "nbformat": 4,
 "nbformat_minor": 2
}
