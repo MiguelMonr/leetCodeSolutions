{
 "cells": [
  {
   "cell_type": "markdown",
   "metadata": {},
   "source": [
    "## Two sum problem"
   ]
  },
  {
   "cell_type": "code",
   "execution_count": 3,
   "metadata": {},
   "outputs": [
    {
     "name": "stdout",
     "output_type": "stream",
     "text": [
      "Test 1\n",
      "[1, 3] \n",
      "\n",
      "Test 2\n",
      "[0, 1] \n",
      "\n"
     ]
    }
   ],
   "source": [
    "class Solution(object):\n",
    "    def twoSum(self, nums, target):\n",
    "        \"\"\"\n",
    "        :type nums: List[int]\n",
    "        :type target: int\n",
    "        :rtype: List[int]\n",
    "        \"\"\"\n",
    "        aux = set(nums)\n",
    "        longitud= len(nums)\n",
    "                \n",
    "        for num in nums:\n",
    "            auxT= target - num\n",
    "                            \n",
    "            if auxT in aux: \n",
    "                if len(aux)==1:\n",
    "                    index= list(range(longitud))\n",
    "                    lisRes= index\n",
    "                else:    \n",
    "                    aux2= nums.index(auxT)\n",
    "                    lisRes= [ aux2, nums.index(num)]\n",
    "                \n",
    "        return lisRes\n",
    "    \n",
    "solution = Solution()\n",
    "\n",
    "nums= [11,7,15,2]\n",
    "print(\"Test 1\")\n",
    "print(solution.twoSum(nums,9),\"\\n\")\n",
    "\n",
    "\n",
    "\n",
    "nums2= [3,3]\n",
    "print(\"Test 2\")\n",
    "print(solution.twoSum(nums2,6),\"\\n\")\n",
    "\n",
    "\n"
   ]
  }
 ],
 "metadata": {
  "kernelspec": {
   "display_name": "Python 3",
   "language": "python",
   "name": "python3"
  },
  "language_info": {
   "codemirror_mode": {
    "name": "ipython",
    "version": 3
   },
   "file_extension": ".py",
   "mimetype": "text/x-python",
   "name": "python",
   "nbconvert_exporter": "python",
   "pygments_lexer": "ipython3",
   "version": "3.11.0"
  }
 },
 "nbformat": 4,
 "nbformat_minor": 2
}
