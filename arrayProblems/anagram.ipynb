{
 "cells": [
  {
   "cell_type": "markdown",
   "metadata": {},
   "source": [
    "Given two strings s and t, return true if t is an anagram of s, and false otherwise.\n",
    "\n",
    "An Anagram is a word or phrase formed by rearranging the letters of a different word or phrase, typically using all the original letters exactly once."
   ]
  },
  {
   "cell_type": "code",
   "execution_count": 1,
   "metadata": {},
   "outputs": [
    {
     "name": "stdout",
     "output_type": "stream",
     "text": [
      "This is test 1\n",
      "False\n",
      "False\n",
      "False\n"
     ]
    }
   ],
   "source": [
    "# My solution \n",
    "class Solution(object):\n",
    "    def isAnagram(self, s, t):\n",
    "        \"\"\"\n",
    "        :type s: str\n",
    "        :type t: str\n",
    "        :rtype: bool\n",
    "        \"\"\"\n",
    "        aux1= {}\n",
    "        aux2 = {}\n",
    "        res= False \n",
    "        if s is  not None and t  is not None and len(s) == len(t): \n",
    "            for i in s: \n",
    "                if i in aux1: \n",
    "                    aux1[i]+=1\n",
    "                else:\n",
    "                    aux1[i] = 1\n",
    "            for k in t:\n",
    "                if k in aux2: \n",
    "                 aux2[k]+=1\n",
    "                else:\n",
    "                 aux2[k] = 1\n",
    "        else: \n",
    "            return False\n",
    "\n",
    "        if aux1 == aux2:\n",
    "              res=True \n",
    "        return res\n",
    "\n",
    "solution = Solution()\n",
    "\n",
    "s1= \"anagram\"\n",
    "s2= \"nagram\"\n",
    "\n",
    "print(\"This is test 1\")\n",
    "print(solution.isAnagram(s1,s2))\n",
    "\n",
    "s3= \"rat\"\n",
    "s4= \"cat\"\n",
    "print(solution.isAnagram(s3,s4))\n",
    "\n",
    "s5= \"aa\"\n",
    "s6 = \"a\"\n",
    "print(solution.isAnagram(s5,s6))  "
   ]
  },
  {
   "cell_type": "code",
   "execution_count": null,
   "metadata": {},
   "outputs": [],
   "source": [
    "# Leet code solution using hash map. However this still has an O(n) complexity \n",
    "class Solution(object):\n",
    "    def isAnagram(self, s, t):\n",
    "        if len(s) != len(t):\n",
    "            return False\n",
    "\n",
    "        char_map = [0] * 26\n",
    "\n",
    "        for i in range(len(s)):\n",
    "            char_map[ord(s[i]) - ord('a')] += 1\n",
    "            char_map[ord(t[i]) - ord('a')] -= 1\n",
    "\n",
    "        return all(count == 0 for count in char_map)\n",
    "        "
   ]
  },
  {
   "cell_type": "code",
   "execution_count": null,
   "metadata": {},
   "outputs": [],
   "source": [
    "# Leet code solution 2\n",
    "class Solution:\n",
    "    def isAnagram(self, s: str, t: str) -> bool:\n",
    "        sorted_s = sorted(s)\n",
    "        sorted_t = sorted(t)\n",
    "        return sorted_s == sorted_t"
   ]
  }
 ],
 "metadata": {
  "kernelspec": {
   "display_name": "Python 3",
   "language": "python",
   "name": "python3"
  },
  "language_info": {
   "codemirror_mode": {
    "name": "ipython",
    "version": 3
   },
   "file_extension": ".py",
   "mimetype": "text/x-python",
   "name": "python",
   "nbconvert_exporter": "python",
   "pygments_lexer": "ipython3",
   "version": "3.11.0"
  }
 },
 "nbformat": 4,
 "nbformat_minor": 2
}
